{
  "nbformat": 4,
  "nbformat_minor": 0,
  "metadata": {
    "colab": {
      "name": "proje4",
      "provenance": [],
      "toc_visible": true,
      "authorship_tag": "ABX9TyPaCJQ2mU0j9vc5EF99NE7k",
      "include_colab_link": true
    },
    "kernelspec": {
      "name": "python3",
      "display_name": "Python 3"
    },
    "language_info": {
      "name": "python"
    }
  },
  "cells": [
    {
      "cell_type": "markdown",
      "metadata": {
        "id": "view-in-github",
        "colab_type": "text"
      },
      "source": [
        "<a href=\"https://colab.research.google.com/github/elifcecen/hu-bby261-2021-proje4-/blob/main/proje4.ipynb\" target=\"_parent\"><img src=\"https://colab.research.google.com/assets/colab-badge.svg\" alt=\"Open In Colab\"/></a>"
      ]
    },
    {
      "cell_type": "code",
      "source": [
        "import tensorflow as tf\n",
        "import numpy as np\n",
        "import logging\n",
        "logger = tf.get_logger()\n",
        "logger.setLevel(logging.ERROR)\n",
        "\n",
        "km   = np.array([150, 25,  18,  33, 58, 73, 96, 88, 123, 54],  dtype=float)\n",
        "mil = np.array([93.2,  15.5, 11.1, 20.5, 36, 45.3, 59.6, 54.6, 76.4, 33.5],  dtype=float)\n",
        "\n",
        "tekrar = int(input(\"Eğitim sayısı giriniz: \"))\n",
        "dönüştür = int(input(\"Çevirmek istediğiniz sayıyı giriniz: \"))\n",
        "sonuc= dönüştür/1.609344\n",
        "\n",
        "for i,c in enumerate(km):\n",
        "  print(\"{} degrees km = {} degrees mil\".format(c, mil[i]))\n",
        "\n",
        "l0 = tf.keras.layers.Dense(units=1, input_shape=[1])\n",
        "model = tf.keras.Sequential([l0])\n",
        "model.compile(loss='mean_squared_error',\n",
        "              optimizer=tf.keras.optimizers.Adam(0.1))\n",
        "\n",
        "history = model.fit(km, mil, epochs=tekrar, verbose=False)\n",
        "\n",
        "import matplotlib.pyplot as plt\n",
        "\n",
        "gelensonuç = (model.predict([dönüştür]))\n",
        "print(\"Tahmin: \", gelensonuç)\n",
        "\n",
        "\n",
        "import matplotlib.pyplot as plt\n",
        "plt.xlabel('Epoch Number')\n",
        "plt.ylabel(\"Loss Magnitude\")\n",
        "plt.plot(history.history['loss'])\n",
        "\n",
        "\n",
        "\n",
        "print(\"Sonuç: \",sonuc)\n"
      ],
      "metadata": {
        "colab": {
          "base_uri": "https://localhost:8080/",
          "height": 522
        },
        "id": "1xCOzsDEZ0Ny",
        "outputId": "9c7c1753-1615-405e-e96c-4b3cbc6786fb"
      },
      "execution_count": null,
      "outputs": [
        {
          "output_type": "stream",
          "name": "stdout",
          "text": [
            "Eğitim sayısı giriniz: 100\n",
            "Çevirmek istediğiniz sayıyı giriniz: 60\n",
            "150.0 degrees km = 93.2 degrees mil\n",
            "25.0 degrees km = 15.5 degrees mil\n",
            "18.0 degrees km = 11.1 degrees mil\n",
            "33.0 degrees km = 20.5 degrees mil\n",
            "58.0 degrees km = 36.0 degrees mil\n",
            "73.0 degrees km = 45.3 degrees mil\n",
            "96.0 degrees km = 59.6 degrees mil\n",
            "88.0 degrees km = 54.6 degrees mil\n",
            "123.0 degrees km = 76.4 degrees mil\n",
            "54.0 degrees km = 33.5 degrees mil\n",
            "Tahmin:  [[38.751938]]\n",
            "Sonuç:  37.28227153424004\n"
          ]
        },
        {
          "output_type": "display_data",
          "data": {
            "image/png": "[encoded data removed]",
            "text/plain": [
              "<Figure size 432x288 with 1 Axes>"
            ]
          },
          "metadata": {
            "needs_background": "light"
          }
        }
      ]
    }
  ]
}